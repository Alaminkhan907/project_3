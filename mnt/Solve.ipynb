{
 "cells": [
  {
   "cell_type": "code",
   "execution_count": 1,
   "id": "eed696d0-5905-4f84-ab70-da12c3bf3537",
   "metadata": {},
   "outputs": [
    {
     "name": "stdout",
     "output_type": "stream",
     "text": [
      "Requirement already satisfied: langid in /opt/conda/lib/python3.11/site-packages (1.1.6)\n",
      "Requirement already satisfied: numpy in /opt/conda/lib/python3.11/site-packages (from langid) (1.26.4)\n"
     ]
    }
   ],
   "source": [
    "#Importing all\n",
    "!pip install langid\n",
    "from pyspark.sql import SparkSession\n",
    "from pyspark.sql import functions as F\n",
    "from pyspark.ml.feature import StopWordsRemover, HashingTF, IDF, PCA\n",
    "from pyspark.ml.clustering import KMeans\n",
    "from pyspark.sql.functions import col, lower, regexp_replace, split, udf\n",
    "from pyspark.sql.types import StringType, DoubleType\n",
    "from pyspark.ml.linalg import Vectors, SparseVector\n",
    "import numpy as np\n",
    "import langid\n",
    "import matplotlib.pyplot as plt\n",
    "from pyspark.sql.functions import udf\n",
    "from pyspark.sql.types import StringType\n",
    "from pyspark.sql.functions import col, lower, regexp_replace, split\n",
    "from pyspark.ml.feature import StopWordsRemover\n",
    "from pyspark.sql import DataFrame\n",
    "# from pyspark.ml.feature import PCA\n",
    "from pyspark.ml.feature import VectorSlicer"
   ]
  },
  {
   "cell_type": "code",
   "execution_count": 2,
   "id": "35293e97-8df2-4583-9248-ce50f76fa1ce",
   "metadata": {},
   "outputs": [],
   "source": [
    "# spark = SparkSession.builder \\\n",
    "#     .appName(\"Project 3\") \\\n",
    "#     .getOrCreate()"
   ]
  },
  {
   "cell_type": "code",
   "execution_count": 3,
   "id": "13b633be-3fc7-45ef-ba49-09953733b322",
   "metadata": {},
   "outputs": [],
   "source": [
    "spark = SparkSession.builder \\\n",
    "    .config(\"spark.sql.shuffle.partitions\", 10) \\\n",
    "    .config(\"spark.executor.memory\", \"8g\") \\\n",
    "    .config(\"spark.driver.memory\", \"8g\") \\\n",
    "    .config(\"spark.driver.maxResultSize\", \"8g\") \\\n",
    "    .master(\"local[*]\") \\\n",
    "    .appName(\"Project 3\") \\\n",
    "    .getOrCreate()"
   ]
  },
  {
   "cell_type": "code",
   "execution_count": 4,
   "id": "16c479b8-f7ee-4040-a507-71555fa1ca2e",
   "metadata": {},
   "outputs": [
    {
     "name": "stdout",
     "output_type": "stream",
     "text": [
      "Archive:  dblp.v10.zip\n"
     ]
    }
   ],
   "source": [
    "!unzip -u dblp.v10.zip"
   ]
  },
  {
   "cell_type": "code",
   "execution_count": 5,
   "id": "0b412ae2-3ba2-41e9-9261-614b0e051383",
   "metadata": {},
   "outputs": [],
   "source": [
    "# df = spark.read.json(\"./dblp-ref/*.json\", multiLine=True)\n",
    "# df = spark.read.json(\"./dblp-ref/dblp-ref-0.json\")"
   ]
  },
  {
   "cell_type": "code",
   "execution_count": 25,
   "id": "0af1a21e-484e-4297-a121-5b20ac3f4509",
   "metadata": {},
   "outputs": [
    {
     "name": "stdout",
     "output_type": "stream",
     "text": [
      "+--------------------+--------------------+--------------------+----------+--------------------+--------------------+--------------------+----+\n",
      "|            abstract|             authors|                  id|n_citation|          references|               title|               venue|year|\n",
      "+--------------------+--------------------+--------------------+----------+--------------------+--------------------+--------------------+----+\n",
      "|The purpose of th...|[Makoto Satoh, Ry...|00127ee2-cb05-48c...|         0|[51c7e02e-f5ed-43...|Preliminary Desig...|international con...|2013|\n",
      "|This paper descri...|[Gareth Beale, Gr...|001c58d3-26ad-46b...|        50|[10482dd3-4642-41...|A methodology for...|visual analytics ...|2011|\n",
      "|This article appl...|[Altaf Hossain, F...|001c8744-73c4-4b0...|        50|[2d84c0f2-e656-4c...|Comparison of GAR...|pattern recogniti...|2009|\n",
      "|                NULL|[Jea-Bum Park, By...|00338203-9eb3-40c...|         0|[8c78e4b0-632b-42...|Development of Re...|                    |2011|\n",
      "|                NULL|[Giovanna Guerrin...|0040b022-1472-4f7...|         2|                NULL|Reasonig about Se...|                    |1998|\n",
      "+--------------------+--------------------+--------------------+----------+--------------------+--------------------+--------------------+----+\n",
      "only showing top 5 rows\n",
      "\n"
     ]
    }
   ],
   "source": [
    "from functools import reduce\n",
    "\n",
    "# List of file paths\n",
    "file_paths = [\"./dblp-ref/dblp-ref-0.json\", \"./dblp-ref/dblp-ref-1.json\", \"./dblp-ref/dblp-ref-2.json\", \"./dblp-ref/dblp-ref-3.json\"]\n",
    "\n",
    "# Read data from all JSON files\n",
    "dfs = [spark.read.json(file_path) for file_path in file_paths]\n",
    "\n",
    "# Combine all DataFrames into one\n",
    "df_combined = reduce(lambda df1, df2: df1.union(df2), dfs)\n",
    "\n",
    "# Show the combined DataFrame\n",
    "df_combined.show(5)  # Show the first 5 rows to verify the data\n"
   ]
  },
  {
   "cell_type": "code",
   "execution_count": 26,
   "id": "45ce2893-0627-4e58-a576-d60c7cef35db",
   "metadata": {},
   "outputs": [
    {
     "name": "stdout",
     "output_type": "stream",
     "text": [
      "root\n",
      " |-- abstract: string (nullable = true)\n",
      " |-- authors: array (nullable = true)\n",
      " |    |-- element: string (containsNull = true)\n",
      " |-- id: string (nullable = true)\n",
      " |-- n_citation: long (nullable = true)\n",
      " |-- references: array (nullable = true)\n",
      " |    |-- element: string (containsNull = true)\n",
      " |-- title: string (nullable = true)\n",
      " |-- venue: string (nullable = true)\n",
      " |-- year: long (nullable = true)\n",
      " |-- language: string (nullable = true)\n",
      "\n",
      "+--------------------+--------------------+--------------------+----------+--------------------+--------------------+--------------------+----+--------+\n",
      "|            abstract|             authors|                  id|n_citation|          references|               title|               venue|year|language|\n",
      "+--------------------+--------------------+--------------------+----------+--------------------+--------------------+--------------------+----+--------+\n",
      "|The purpose of th...|[Makoto Satoh, Ry...|00127ee2-cb05-48c...|         0|[51c7e02e-f5ed-43...|Preliminary Desig...|international con...|2013|      en|\n",
      "|This paper descri...|[Gareth Beale, Gr...|001c58d3-26ad-46b...|        50|[10482dd3-4642-41...|A methodology for...|visual analytics ...|2011|      en|\n",
      "|This article appl...|[Altaf Hossain, F...|001c8744-73c4-4b0...|        50|[2d84c0f2-e656-4c...|Comparison of GAR...|pattern recogniti...|2009|      en|\n",
      "|Recent achievemen...|[Ankita Brahmacha...|00a119c4-d367-460...|         0|[84d47128-58d0-41...|Identifying Psych...|                    |2013|      en|\n",
      "|Recently, Bridges...|[Alvaro L. Islas,...|00bcf2d5-1592-46b...|        50|                  []|Multisymplectic S...|international con...|2002|      en|\n",
      "+--------------------+--------------------+--------------------+----------+--------------------+--------------------+--------------------+----+--------+\n",
      "only showing top 5 rows\n",
      "\n",
      "Number of records: 749521\n"
     ]
    }
   ],
   "source": [
    "# Show the schema\n",
    "df.printSchema()\n",
    "df.show(5)\n",
    "print(f\"Number of records: {df.count()}\")"
   ]
  },
  {
   "cell_type": "code",
   "execution_count": 7,
   "id": "df179595-ce55-43bc-944f-effc8571d2fa",
   "metadata": {},
   "outputs": [
    {
     "name": "stdout",
     "output_type": "stream",
     "text": [
      "+-------+--------------------+--------------------+------------------+-------------------------------------+--------------------+----------------+\n",
      "|summary|            abstract|                  id|        n_citation|                                title|               venue|            year|\n",
      "+-------+--------------------+--------------------+------------------+-------------------------------------+--------------------+----------------+\n",
      "|  count|              753646|             1000000|           1000000|                              1000000|             1000000|         1000000|\n",
      "|   mean|                NULL|                NULL|          30.87573|                                 NULL|                NULL|     2006.365124|\n",
      "| stddev|                NULL|                NULL|137.94247310778852|                                 NULL|                NULL|7.83383289543257|\n",
      "|    min|\u000e\u000f\u0010\u0011 \u000e\u000f\u0010\u0011\u0012\u0013\u0014\u0015\u0015\u0016\u0017\u0018...|000000b8-7f59-49a...|                 0|                 ! and ? – Storage...|                    |            1937|\n",
      "|    max|�����������������...|ffffe1e6-981e-4cf...|             73362|インパルス応答測定のための有色疑似...|worst-case execut...|            2017|\n",
      "+-------+--------------------+--------------------+------------------+-------------------------------------+--------------------+----------------+\n",
      "\n",
      "+--------+-------+---+----------+----------+-----+-----+----+\n",
      "|abstract|authors| id|n_citation|references|title|venue|year|\n",
      "+--------+-------+---+----------+----------+-----+-----+----+\n",
      "|  246354|      0|  0|         0|    138520|    0|    0|   0|\n",
      "+--------+-------+---+----------+----------+-----+-----+----+\n",
      "\n",
      "+-------+------------------+\n",
      "|summary|        n_citation|\n",
      "+-------+------------------+\n",
      "|  count|           1000000|\n",
      "|   mean|          30.87573|\n",
      "| stddev|137.94247310778852|\n",
      "|    min|                 0|\n",
      "|    max|             73362|\n",
      "+-------+------------------+\n",
      "\n",
      "+--------+--------------------+--------------------+----------+--------------------+--------------------+--------------------+----+\n",
      "|abstract|             authors|                  id|n_citation|          references|               title|               venue|year|\n",
      "+--------+--------------------+--------------------+----------+--------------------+--------------------+--------------------+----+\n",
      "|    NULL|[Jea-Bum Park, By...|00338203-9eb3-40c...|         0|[8c78e4b0-632b-42...|Development of Re...|                    |2011|\n",
      "|    NULL|[Giovanna Guerrin...|0040b022-1472-4f7...|         2|                NULL|Reasonig about Se...|                    |1998|\n",
      "|    NULL|[Rafael Álvarez, ...|005ce28f-ed77-4e9...|         0|                NULL|COMPARING GNG3D A...|international con...|2009|\n",
      "|    NULL|[Jovan Dj. Golic,...|00638a94-23bf-4fa...|         2|                NULL|Vectorial fast co...|                    |2004|\n",
      "|    NULL|[Guzin Ulutas, Mu...|00701b05-684f-45f...|         0|[5626736c-e434-4e...|Improved Secret I...|international sym...|2011|\n",
      "|    NULL|[Pranay Chaudhuri...|00745041-3636-4d1...|         0|                NULL|A Self-Stabilizin...|parallel and dist...|2003|\n",
      "|    NULL|[Dominik Szajerma...|00964544-cbe2-4da...|         0|[3fcd7cdc-20e6-4e...|Fur Visualisation...|international con...|2014|\n",
      "|    NULL|[David Al-Dabass,...|00ba1eb4-d1aa-458...|         0|                NULL|Simulation of a v...|                    |1995|\n",
      "|    NULL|[Reiko Heckel, To...|00dc2bba-3237-4d4...|        50|                NULL|Software Evolutio...|Electronic Notes ...|2003|\n",
      "|    NULL|[Milos Zelezný, P...|00e02aeb-b424-4ca...|         7|                NULL|Design of an audi...|conference of the...|2002|\n",
      "|    NULL|[Abdullah Alsubai...|00e3940b-201b-40b...|         6|[0293844d-7244-45...|A Platform for Di...|                    |2013|\n",
      "|    NULL|[Tien Ho-Phuoc, A...|00fd4f6f-c7a1-49a...|         3|                NULL|A COMPUTATIONAL S...|international con...|2009|\n",
      "|    NULL|[Marco Baroni, Fr...|01082175-d4e3-456...|       101|                NULL|Cleaneval: a Comp...|language resource...|2008|\n",
      "|    NULL|[Nebojsa M. Ralev...|010fda73-e708-489...|         0|[17d92951-cd71-49...|Algorithms for th...|                    |2007|\n",
      "|    NULL|[William Perrizo,...|01103168-55d8-42b...|         0|                NULL|Vertical Database...|                    |2005|\n",
      "|    NULL|[Norihiko Moriwak...|014df191-abb2-44c...|         0|[08704b8d-70a1-44...|Sensor-Data-Drive...|                    |2014|\n",
      "|    NULL|[Prudence W. H. W...|01546472-0ac9-47f...|         6|[08784bb3-09b9-4b...|An 8/3 Lower Boun...|international sym...|2012|\n",
      "|    NULL|[Olivia Mendoza, ...|016eba4d-f912-492...|        50|[159fdfd2-921e-42...|Comparison of Fuz...|      soft computing|2010|\n",
      "|    NULL|[Martine Collard,...|01733dc2-4910-40d...|         3|[0102f234-e30b-4b...|Extracted Knowled...|research challeng...|2007|\n",
      "|    NULL|[Yosuke Furukawa,...|019a51de-5136-41c...|        50|                NULL|Context Dependent...|Journal of Advanc...|2007|\n",
      "+--------+--------------------+--------------------+----------+--------------------+--------------------+--------------------+----+\n",
      "only showing top 20 rows\n",
      "\n"
     ]
    }
   ],
   "source": [
    "# Display summary statistics\n",
    "df.describe().show()\n",
    "\n",
    "# Check for missing values (excluding `isnan`)\n",
    "df.select([F.count(F.when(F.col(c).isNull(), c)).alias(c) for c in df.columns]).show()\n",
    "\n",
    "# Distribution of citations\n",
    "df.select(\"n_citation\").describe().show()\n",
    "\n",
    "# Check for null abstracts and titles\n",
    "df.filter(df.abstract.isNull() | df.title.isNull()).show()"
   ]
  },
  {
   "cell_type": "code",
   "execution_count": 8,
   "id": "c7855f3f-7a7b-4d23-bf45-4c4981e11071",
   "metadata": {},
   "outputs": [
    {
     "name": "stdout",
     "output_type": "stream",
     "text": [
      "+--------------------+--------------------+--------------------+----------+--------------------+--------------------+--------------------+----+--------+\n",
      "|            abstract|             authors|                  id|n_citation|          references|               title|               venue|year|language|\n",
      "+--------------------+--------------------+--------------------+----------+--------------------+--------------------+--------------------+----+--------+\n",
      "|The purpose of th...|[Makoto Satoh, Ry...|00127ee2-cb05-48c...|         0|[51c7e02e-f5ed-43...|Preliminary Desig...|international con...|2013|      en|\n",
      "|This paper descri...|[Gareth Beale, Gr...|001c58d3-26ad-46b...|        50|[10482dd3-4642-41...|A methodology for...|visual analytics ...|2011|      en|\n",
      "|This article appl...|[Altaf Hossain, F...|001c8744-73c4-4b0...|        50|[2d84c0f2-e656-4c...|Comparison of GAR...|pattern recogniti...|2009|      en|\n",
      "|Recent achievemen...|[Ankita Brahmacha...|00a119c4-d367-460...|         0|[84d47128-58d0-41...|Identifying Psych...|                    |2013|      en|\n",
      "|Recently, Bridges...|[Alvaro L. Islas,...|00bcf2d5-1592-46b...|        50|                  []|Multisymplectic S...|international con...|2002|      en|\n",
      "|Most applications...|[Patrick Cousot, ...|00c85316-bddf-4bc...|        50|[6e8a3ec3-9a99-4f...|Relational Abstra...|                    |1991|      en|\n",
      "|Three speech trai...|[Minoru Shigenaga...|00ca027b-5174-40f...|         0|                NULL|Speech training s...|international joi...|1979|      en|\n",
      "|This paper focuse...|[Efthymios Alepis...|00dd5ece-1339-4cb...|        50|[522bea13-bd45-49...|Knowledge Enginee...|joint conference ...|2008|      en|\n",
      "|Embedded systems ...|[Matias Madou, Bj...|01047814-b615-444...|        50|                NULL|Link-time compact...|european symposiu...|2004|      en|\n",
      "|Xax is a browser ...|[John R. Douceur,...|010d4ce9-0279-416...|        50|[0abc9de7-e047-44...|Leveraging legacy...|operating systems...|2008|      en|\n",
      "|In recent years, ...|[Hiroshi Furukawa...|010d9907-45ef-459...|         7|[b2f0e0d3-0071-40...|A pedestrian navi...|international con...|2013|      en|\n",
      "|Previous language...|[Carmen Fernández...|012b88ae-a763-45d...|        50|[00515e82-3da6-49...|Word pairs in lan...|                    |2004|      en|\n",
      "|Spatial encryptio...|[Michel Abdalla, ...|016a9a21-e882-4cd...|        50|[3140c9ba-8d98-42...|Leakage-Resilient...|                    |2012|      en|\n",
      "|In system operati...|[Mark Burgess, Al...|01705f09-d395-4a0...|         8|[363278e2-6c9d-45...|On system rollbac...|The Journal of Lo...|2011|      en|\n",
      "|Business strategy...|[Constantinos Gia...|01b6f2ca-3903-419...|        12|[0ce446cf-4f4f-49...|Model-Driven Stra...|                    |2012|      en|\n",
      "|FTP Mirror Tracke...|[Alexei Novikov, ...|01ccb92f-46f1-400...|         0|                  []|FTP Mirror Tracke...|usenix large inst...|2000|      en|\n",
      "|There are a numbe...|[Theresa Beauboue...|01edeac9-cd8b-46f...|         0|[09b666de-6279-48...|Information Syste...|                    |2014|      en|\n",
      "|Breast cancer is ...|[Bartosz Krawczyk...|0265aea8-65f3-4f4...|        50|[16f0341b-538d-40...|Breast Cancer Ide...|                    |2013|      en|\n",
      "|The development o...|[J. Niblock, Jian...|028d37c8-b571-41b...|         0|[8fc06656-ed2a-46...|Automated Object ...|international con...|2008|      en|\n",
      "|Quality specified...|[Qiong Liu, You Y...|02a5e8a8-061e-4c1...|         3|[04f8d077-765a-41...|Quality Assessmen...|conference on mul...|2013|      en|\n",
      "+--------------------+--------------------+--------------------+----------+--------------------+--------------------+--------------------+----+--------+\n",
      "only showing top 20 rows\n",
      "\n"
     ]
    }
   ],
   "source": [
    "# Function to detect language using langid\n",
    "def detect_language(text):\n",
    "    if text is None:\n",
    "        return None\n",
    "    lang, _ = langid.classify(text)\n",
    "    return lang\n",
    "\n",
    "# Registering UDF\n",
    "lang_detect_udf = udf(detect_language, StringType())\n",
    "\n",
    "# Add a new column for language detection\n",
    "df = df.withColumn(\"language\", lang_detect_udf(df.abstract))\n",
    "\n",
    "# Filter only English documents\n",
    "df = df.filter(df.language == 'en')\n",
    "df.show()"
   ]
  },
  {
   "cell_type": "code",
   "execution_count": 9,
   "id": "0ea38aff-6902-4413-87ae-bbe86f4ce128",
   "metadata": {},
   "outputs": [],
   "source": [
    "# Custom stop words\n",
    "custom_stop_words = ['doi', 'preprint', 'copyright', 'peer', 'reviewed', 'org', 'https', 'et', 'al', \n",
    "                     'author', 'figure', 'rights', 'reserved', 'permission', 'used', 'using', \n",
    "                     'biorxiv', 'medrxiv', 'license', 'fig', 'fig.', 'al.', 'Elsevier', 'PMC', \n",
    "                     'CZI', 'www']"
   ]
  },
  {
   "cell_type": "code",
   "execution_count": 10,
   "id": "ea663933-fdbb-4ca7-9e30-7500a98a7226",
   "metadata": {},
   "outputs": [],
   "source": [
    "# Lowercase and remove punctuation\n",
    "df_cleaned = df.withColumn(\"cleaned_abstract\", lower(col(\"abstract\")))\n",
    "df_cleaned = df_cleaned.withColumn(\"cleaned_abstract\", regexp_replace(col(\"cleaned_abstract\"), r'[!()\\-\\[\\]{};:\\'\",<>./?@#$%^&*_~]', ''))\n",
    "# df_cleaned.show()"
   ]
  },
  {
   "cell_type": "code",
   "execution_count": 11,
   "id": "ed2d3f6f-b148-45ec-a1a4-713a229eb2dc",
   "metadata": {},
   "outputs": [],
   "source": [
    "# Tokenize the text\n",
    "df_tokenized = df_cleaned.withColumn(\"tokenized_abstract\", split(col(\"cleaned_abstract\"), \" \"))"
   ]
  },
  {
   "cell_type": "code",
   "execution_count": 12,
   "id": "eeb89221-56de-41ac-acfb-bfb28aa8ab13",
   "metadata": {},
   "outputs": [],
   "source": [
    "# Remove stop words\n",
    "remover = StopWordsRemover(inputCol=\"tokenized_abstract\", outputCol=\"filtered_abstract\", \n",
    "                           stopWords=StopWordsRemover().getStopWords() + custom_stop_words)\n",
    "df_filtered = remover.transform(df_tokenized)"
   ]
  },
  {
   "cell_type": "code",
   "execution_count": 13,
   "id": "8b340bef-4247-424e-8e9a-99568fdf5cbc",
   "metadata": {},
   "outputs": [],
   "source": [
    "# Show the cleaned dataframe\n",
    "# df_filtered.select(\"abstract\", \"cleaned_abstract\", \"tokenized_abstract\", \"filtered_abstract\").show(truncate=False)"
   ]
  },
  {
   "cell_type": "code",
   "execution_count": 14,
   "id": "c1b36a5a-d6c0-4e5a-8034-47d1b9886237",
   "metadata": {},
   "outputs": [],
   "source": [
    "# Apply TF\n",
    "hashingTF = HashingTF(inputCol=\"filtered_abstract\", outputCol=\"rawFeatures\", numFeatures=20000)\n",
    "df_featurized = hashingTF.transform(df_filtered)\n",
    "# df_featurized.show()"
   ]
  },
  {
   "cell_type": "code",
   "execution_count": 15,
   "id": "593dfa35-f111-431c-bb48-ad6b1dd73b5c",
   "metadata": {},
   "outputs": [
    {
     "name": "stdout",
     "output_type": "stream",
     "text": [
      "+--------------------+--------------------+--------------------+----------+--------------------+--------------------+--------------------+----+--------+--------------------+--------------------+--------------------+--------------------+--------------------+\n",
      "|            abstract|             authors|                  id|n_citation|          references|               title|               venue|year|language|    cleaned_abstract|  tokenized_abstract|   filtered_abstract|         rawFeatures|            features|\n",
      "+--------------------+--------------------+--------------------+----------+--------------------+--------------------+--------------------+----+--------+--------------------+--------------------+--------------------+--------------------+--------------------+\n",
      "|The purpose of th...|[Makoto Satoh, Ry...|00127ee2-cb05-48c...|         0|[51c7e02e-f5ed-43...|Preliminary Desig...|international con...|2013|      en|the purpose of th...|[the, purpose, of...|[purpose, study, ...|(20000,[1072,1241...|(20000,[1072,1241...|\n",
      "|This paper descri...|[Gareth Beale, Gr...|001c58d3-26ad-46b...|        50|[10482dd3-4642-41...|A methodology for...|visual analytics ...|2011|      en|this paper descri...|[this, paper, des...|[paper, describes...|(20000,[273,313,3...|(20000,[273,313,3...|\n",
      "|This article appl...|[Altaf Hossain, F...|001c8744-73c4-4b0...|        50|[2d84c0f2-e656-4c...|Comparison of GAR...|pattern recogniti...|2009|      en|this article appl...|[this, article, a...|[article, applied...|(20000,[45,1188,1...|(20000,[45,1188,1...|\n",
      "|Recent achievemen...|[Ankita Brahmacha...|00a119c4-d367-460...|         0|[84d47128-58d0-41...|Identifying Psych...|                    |2013|      en|recent achievemen...|[recent, achievem...|[recent, achievem...|(20000,[86,274,32...|(20000,[86,274,32...|\n",
      "|Recently, Bridges...|[Alvaro L. Islas,...|00bcf2d5-1592-46b...|        50|                  []|Multisymplectic S...|international con...|2002|      en|recently bridges ...|[recently, bridge...|[recently, bridge...|(20000,[1695,2431...|(20000,[1695,2431...|\n",
      "|Most applications...|[Patrick Cousot, ...|00c85316-bddf-4bc...|        50|[6e8a3ec3-9a99-4f...|Relational Abstra...|                    |1991|      en|most applications...|[most, applicatio...|[applications, ab...|(20000,[870,930,1...|(20000,[870,930,1...|\n",
      "|Three speech trai...|[Minoru Shigenaga...|00ca027b-5174-40f...|         0|                NULL|Speech training s...|international joi...|1979|      en|three speech trai...|[three, speech, t...|[three, speech, t...|(20000,[39,102,50...|(20000,[39,102,50...|\n",
      "|This paper focuse...|[Efthymios Alepis...|00dd5ece-1339-4cb...|        50|[522bea13-bd45-49...|Knowledge Enginee...|joint conference ...|2008|      en|this paper focuse...|[this, paper, foc...|[paper, focuses, ...|(20000,[1239,1456...|(20000,[1239,1456...|\n",
      "|Embedded systems ...|[Matias Madou, Bj...|01047814-b615-444...|        50|                NULL|Link-time compact...|european symposiu...|2004|      en|embedded systems ...|[embedded, system...|[embedded, system...|(20000,[573,1188,...|(20000,[573,1188,...|\n",
      "|Xax is a browser ...|[John R. Douceur,...|010d4ce9-0279-416...|        50|[0abc9de7-e047-44...|Leveraging legacy...|operating systems...|2008|      en|xax is a browser ...|[xax, is, a, brow...|[xax, browser, pl...|(20000,[23,286,50...|(20000,[23,286,50...|\n",
      "|In recent years, ...|[Hiroshi Furukawa...|010d9907-45ef-459...|         7|[b2f0e0d3-0071-40...|A pedestrian navi...|international con...|2013|      en|in recent years m...|[in, recent, year...|[recent, years, m...|(20000,[274,399,7...|(20000,[274,399,7...|\n",
      "|Previous language...|[Carmen Fernández...|012b88ae-a763-45d...|        50|[00515e82-3da6-49...|Word pairs in lan...|                    |2004|      en|previous language...|[previous, langua...|[previous, langua...|(20000,[134,576,5...|(20000,[134,576,5...|\n",
      "|Spatial encryptio...|[Michel Abdalla, ...|016a9a21-e882-4cd...|        50|[3140c9ba-8d98-42...|Leakage-Resilient...|                    |2012|      en|spatial encryptio...|[spatial, encrypt...|[spatial, encrypt...|(20000,[274,313,3...|(20000,[274,313,3...|\n",
      "|In system operati...|[Mark Burgess, Al...|01705f09-d395-4a0...|         8|[363278e2-6c9d-45...|On system rollbac...|The Journal of Lo...|2011|      en|in system operati...|[in, system, oper...|[system, operatio...|(20000,[163,175,1...|(20000,[163,175,1...|\n",
      "|Business strategy...|[Constantinos Gia...|01b6f2ca-3903-419...|        12|[0ce446cf-4f4f-49...|Model-Driven Stra...|                    |2012|      en|business strategy...|[business, strate...|[business, strate...|(20000,[239,361,4...|(20000,[239,361,4...|\n",
      "|FTP Mirror Tracke...|[Alexei Novikov, ...|01ccb92f-46f1-400...|         0|                  []|FTP Mirror Tracke...|usenix large inst...|2000|      en|ftp mirror tracke...|[ftp, mirror, tra...|[ftp, mirror, tra...|(20000,[78,193,27...|(20000,[78,193,27...|\n",
      "|There are a numbe...|[Theresa Beauboue...|01edeac9-cd8b-46f...|         0|[09b666de-6279-48...|Information Syste...|                    |2014|      en|there are a numbe...|[there, are, a, n...|[number, alternat...|(20000,[1463,1913...|(20000,[1463,1913...|\n",
      "|Breast cancer is ...|[Bartosz Krawczyk...|0265aea8-65f3-4f4...|        50|[16f0341b-538d-40...|Breast Cancer Ide...|                    |2013|      en|breast cancer is ...|[breast, cancer, ...|[breast, cancer, ...|(20000,[274,436,6...|(20000,[274,436,6...|\n",
      "|The development o...|[J. Niblock, Jian...|028d37c8-b571-41b...|         0|[8fc06656-ed2a-46...|Automated Object ...|international con...|2008|      en|the development o...|[the, development...|[development, aut...|(20000,[23,32,45,...|(20000,[23,32,45,...|\n",
      "|Quality specified...|[Qiong Liu, You Y...|02a5e8a8-061e-4c1...|         3|[04f8d077-765a-41...|Quality Assessmen...|conference on mul...|2013|      en|quality specified...|[quality, specifi...|[quality, specifi...|(20000,[279,364,4...|(20000,[279,364,4...|\n",
      "+--------------------+--------------------+--------------------+----------+--------------------+--------------------+--------------------+----+--------+--------------------+--------------------+--------------------+--------------------+--------------------+\n",
      "only showing top 20 rows\n",
      "\n"
     ]
    }
   ],
   "source": [
    "# Apply IDF\n",
    "idf = IDF(inputCol=\"rawFeatures\", outputCol=\"features\")\n",
    "idf_model = idf.fit(df_featurized)\n",
    "df_vectorized = idf_model.transform(df_featurized)\n",
    "df_vectorized.show()"
   ]
  },
  {
   "cell_type": "code",
   "execution_count": 16,
   "id": "7f13acb9-a1c5-4ca9-9af2-2ee91133335e",
   "metadata": {},
   "outputs": [
    {
     "name": "stdout",
     "output_type": "stream",
     "text": [
      "+--------------------+--------------------+--------------------+\n",
      "|                  id|               title|            features|\n",
      "+--------------------+--------------------+--------------------+\n",
      "|00127ee2-cb05-48c...|Preliminary Desig...|(20000,[1072,1241...|\n",
      "|001c58d3-26ad-46b...|A methodology for...|(20000,[273,313,3...|\n",
      "|001c8744-73c4-4b0...|Comparison of GAR...|(20000,[45,1188,1...|\n",
      "|00a119c4-d367-460...|Identifying Psych...|(20000,[86,274,32...|\n",
      "|00bcf2d5-1592-46b...|Multisymplectic S...|(20000,[1695,2431...|\n",
      "+--------------------+--------------------+--------------------+\n",
      "only showing top 5 rows\n",
      "\n"
     ]
    }
   ],
   "source": [
    "# Select only the columns we need\n",
    "df_vectorized = df_vectorized.select(\"id\", \"title\", \"features\")\n",
    "df_vectorized.show(5)"
   ]
  },
  {
   "cell_type": "code",
   "execution_count": 17,
   "id": "54347d4c-a4aa-44be-96a8-68852cf3bd1d",
   "metadata": {},
   "outputs": [
    {
     "name": "stdout",
     "output_type": "stream",
     "text": [
      "DataFrame[id: string, title: string, features: vector]\n",
      "Sampled DataFrame count: 74989\n",
      "+--------------------+--------------------+--------------------+\n",
      "|                  id|               title|            features|\n",
      "+--------------------+--------------------+--------------------+\n",
      "|00dd5ece-1339-4cb...|Knowledge Enginee...|(20000,[1239,1456...|\n",
      "|01edeac9-cd8b-46f...|Information Syste...|(20000,[1463,1913...|\n",
      "|028d37c8-b571-41b...|Automated Object ...|(20000,[23,32,45,...|\n",
      "|0a2f9484-9355-4a2...|A Distributed Dyn...|(20000,[6,546,793...|\n",
      "|0b3eeeaa-7422-462...|On Lascar rank in...|(20000,[133,740,9...|\n",
      "+--------------------+--------------------+--------------------+\n",
      "only showing top 5 rows\n",
      "\n"
     ]
    }
   ],
   "source": [
    "#Clustering \n",
    "\n",
    "def sample_data(df, fraction, max_attempts=5):\n",
    "    attempt = 0\n",
    "    sampled_df = df.sample(fraction=fraction, seed=42)\n",
    "    while sampled_df.count() == 0 and attempt < max_attempts:\n",
    "        fraction *= 2  # Increase fraction to get more data\n",
    "        sampled_df = df.sample(fraction=fraction, seed=42)\n",
    "        attempt += 1\n",
    "    if sampled_df.count() == 0:\n",
    "        raise ValueError(\"Sampled DataFrame is empty after several attempts.\")\n",
    "    return sampled_df\n",
    "\n",
    "# Sample the data with initial fraction 0.1\n",
    "df_sampled = sample_data(df_vectorized, 0.1)\n",
    "print(df_sampled)\n",
    "print(f\"Sampled DataFrame count: {df_sampled.count()}\")\n",
    "df_sampled.show(5)\n"
   ]
  },
  {
   "cell_type": "code",
   "execution_count": 18,
   "id": "c214f8c7-df05-4806-90cc-1db6cc8e089d",
   "metadata": {},
   "outputs": [],
   "source": [
    "\n",
    "# # Check if df_sampled is a Spark DataFrame\n",
    "# if isinstance(df_sampled, DataFrame):\n",
    "#     print(\"df_sampled is a Spark DataFrame\")\n",
    "# else:\n",
    "#     print(\"df_sampled is not a Spark DataFrame\")\n",
    "\n",
    "# # Check if df_sampled has a column named \"features\"\n",
    "# if \"features\" in df_sampled.columns:\n",
    "#     print(\"df_sampled has a column named 'features'\")\n",
    "# else:\n",
    "#     print(\"df_sampled does not have a column named 'features'\")"
   ]
  },
  {
   "cell_type": "code",
   "execution_count": 19,
   "id": "ac73aa44-69f3-481d-b38f-adfecf27d1bd",
   "metadata": {},
   "outputs": [
    {
     "name": "stdout",
     "output_type": "stream",
     "text": [
      "+--------------------+--------------------+--------------------+--------------------+--------------------+\n",
      "|                  id|               title|            features|     sliced_features|        pca_features|\n",
      "+--------------------+--------------------+--------------------+--------------------+--------------------+\n",
      "|50b6b0be-2273-46b...|Using Relations t...|(20000,[102,701,1...|          (50,[],[])|           [0.0,0.0]|\n",
      "|b97f97d4-5d5c-491...|Rulebase Technolo...|(20000,[30,1020,1...|(50,[30],[8.34498...|[-0.0275457129560...|\n",
      "|8eafa4d3-2291-44d...|X-CAMPUS: A Proac...|(20000,[270,441,1...|          (50,[],[])|           [0.0,0.0]|\n",
      "|55b1f028-b54c-4b3...|An algorithm for ...|(20000,[47,243,31...|(50,[47],[3.76239...|[0.01983219728133...|\n",
      "|ffca6747-5596-4b9...|Architectures for...|(20000,[306,438,4...|          (50,[],[])|           [0.0,0.0]|\n",
      "|a3a0a7df-25bb-440...|A Survey on Paral...|(20000,[274,712,7...|          (50,[],[])|           [0.0,0.0]|\n",
      "|3a9dc99c-e89b-40b...|Pricing tasks in ...|(20000,[1519,1807...|          (50,[],[])|           [0.0,0.0]|\n",
      "|2f384063-c0bf-461...|Identifying Sourc...|(20000,[399,1349,...|          (50,[],[])|           [0.0,0.0]|\n",
      "|469a4eba-9cfe-41e...|Building detectio...|(20000,[274,1039,...|          (50,[],[])|           [0.0,0.0]|\n",
      "|41e0cf77-4a2e-43f...|Efficient abstrac...|(20000,[239,553,7...|          (50,[],[])|           [0.0,0.0]|\n",
      "|1406773f-adc0-49c...|Contour-Based Reg...|(20000,[24,361,16...|(50,[24],[4.98686...|[-0.0070164341150...|\n",
      "|11873cf6-eedb-46c...|Sequential archit...|(20000,[992,1055,...|          (50,[],[])|           [0.0,0.0]|\n",
      "|d67a3888-d5c2-456...|Formal testing of...|(20000,[32,282,11...|(50,[32],[3.13163...|[-0.0220553849976...|\n",
      "|5ef89ca0-f371-410...|Implementing tran...|(20000,[102,322,5...|          (50,[],[])|           [0.0,0.0]|\n",
      "|b1622a9c-cb10-467...|An algorithm for ...|(20000,[322,573,1...|          (50,[],[])|           [0.0,0.0]|\n",
      "|b603a896-c749-46e...|Evaluation of Ite...|(20000,[42,59,134...|(50,[42],[3.42239...|[0.01912853524940...|\n",
      "|2c2ef015-e58e-41f...|Grid Workflow Bas...|(20000,[274,399,1...|          (50,[],[])|           [0.0,0.0]|\n",
      "|c1184d44-e436-434...|Scheduling algori...|(20000,[364,585,7...|          (50,[],[])|           [0.0,0.0]|\n",
      "|24089196-fd86-457...|Handling Pronouns...|(20000,[274,585,1...|          (50,[],[])|           [0.0,0.0]|\n",
      "|45c854e6-7995-40d...|Foundations of re...|(20000,[132,312,3...|          (50,[],[])|           [0.0,0.0]|\n",
      "+--------------------+--------------------+--------------------+--------------------+--------------------+\n",
      "only showing top 20 rows\n",
      "\n"
     ]
    }
   ],
   "source": [
    "# Use VectorSlicer to select relevant features\n",
    "slicer = VectorSlicer(inputCol=\"features\", outputCol=\"sliced_features\", indices=[i for i in range(0, 50)])\n",
    "df_sliced = slicer.transform(df_sampled)\n",
    "\n",
    "# Update PCA to use sliced features\n",
    "pca = PCA(k=2, inputCol=\"sliced_features\", outputCol=\"pca_features\")\n",
    "\n",
    "# Repartition the data to increase parallelism\n",
    "df_sampled_repartitioned = df_sliced.repartition(100)\n",
    "\n",
    "# Persist the DataFrame to speed up the computation\n",
    "df_sampled_repartitioned.persist()\n",
    "\n",
    "# Fit the PCA model\n",
    "pca_model = pca.fit(df_sampled_repartitioned)\n",
    "\n",
    "# Transform the data using the PCA model\n",
    "df_pca = pca_model.transform(df_sampled_repartitioned)\n",
    "\n",
    "# Show the result (for debugging purposes)\n",
    "df_pca.show()"
   ]
  },
  {
   "cell_type": "code",
   "execution_count": 20,
   "id": "a2bd85b3-edeb-402d-bd9d-18bfced22e2f",
   "metadata": {},
   "outputs": [
    {
     "name": "stdout",
     "output_type": "stream",
     "text": [
      "+---------------------------------------------+\n",
      "|pca_features                                 |\n",
      "+---------------------------------------------+\n",
      "|[0.0,0.0]                                    |\n",
      "|[-0.02754571295605096,-0.10238770778760051]  |\n",
      "|[0.0,0.0]                                    |\n",
      "|[0.019832197281332096,-0.017276026400695157] |\n",
      "|[0.0,0.0]                                    |\n",
      "|[0.0,0.0]                                    |\n",
      "|[0.0,0.0]                                    |\n",
      "|[0.0,0.0]                                    |\n",
      "|[0.0,0.0]                                    |\n",
      "|[0.0,0.0]                                    |\n",
      "|[-0.0070164341150122074,-0.02832330452971949]|\n",
      "|[0.0,0.0]                                    |\n",
      "|[-0.022055384997642005,-0.021421363936839972]|\n",
      "|[0.0,0.0]                                    |\n",
      "|[0.0,0.0]                                    |\n",
      "|[0.019128535249404582,-3.412927699591465]    |\n",
      "|[0.0,0.0]                                    |\n",
      "|[0.0,0.0]                                    |\n",
      "|[0.0,0.0]                                    |\n",
      "|[0.0,0.0]                                    |\n",
      "+---------------------------------------------+\n",
      "only showing top 20 rows\n",
      "\n"
     ]
    }
   ],
   "source": [
    "df_pca.select(\"pca_features\").show(truncate=False)\n"
   ]
  },
  {
   "cell_type": "code",
   "execution_count": 21,
   "id": "aec926e3-7280-41d3-97eb-ce1fadb4d94b",
   "metadata": {},
   "outputs": [
    {
     "name": "stdout",
     "output_type": "stream",
     "text": [
      "+------------------+\n",
      "|pca_feature_length|\n",
      "+------------------+\n",
      "|                 2|\n",
      "+------------------+\n",
      "\n"
     ]
    }
   ],
   "source": [
    "from pyspark.sql.types import IntegerType\n",
    "\n",
    "def vector_length(vector):\n",
    "    return len(vector)\n",
    "\n",
    "vector_length_udf = udf(vector_length, IntegerType())\n",
    "df_pca = df_pca.withColumn(\"pca_feature_length\", vector_length_udf(df_pca[\"pca_features\"]))\n",
    "df_pca.select(\"pca_feature_length\").distinct().show()"
   ]
  },
  {
   "cell_type": "code",
   "execution_count": 22,
   "id": "7289ef63-7603-44ca-81fc-52e919dc2d66",
   "metadata": {},
   "outputs": [
    {
     "data": {
      "image/png": "[encoded data removed]",
      "text/plain": [
       "<Figure size 640x480 with 1 Axes>"
      ]
     },
     "metadata": {},
     "output_type": "display_data"
    }
   ],
   "source": [
    "# Elbow Method to Find Optimal K\n",
    "costs = []\n",
    "for k in range(2, 21):\n",
    "    kmeans = KMeans(k=k, seed=1, featuresCol=\"pca_features\")\n",
    "    model = kmeans.fit(df_pca)\n",
    "    costs.append(model.summary.trainingCost)\n",
    "\n",
    "plt.plot(range(2, 21), costs, marker='o')\n",
    "plt.xlabel('Number of Clusters (k)')\n",
    "plt.ylabel('Cost')\n",
    "plt.title('Elbow Method for Optimal k')\n",
    "plt.show()"
   ]
  },
  {
   "cell_type": "code",
   "execution_count": 23,
   "id": "8af23dfb-5d97-43a7-9216-6a7aaf84b5a7",
   "metadata": {},
   "outputs": [],
   "source": [
    "# # KMeans Clustering (using the optimal k from the elbow method)\n",
    "# optimal_k = 10  # Example optimal k value\n",
    "# kmeans = KMeans(k=optimal_k, seed=1, featuresCol=\"pca_features\")\n",
    "# model = kmeans.fit(df_pca)\n",
    "# df_clustered = model.transform(df_pca)"
   ]
  },
  {
   "cell_type": "code",
   "execution_count": 24,
   "id": "77a17f10-e99e-4ae8-8980-5e41bd0e0d7a",
   "metadata": {},
   "outputs": [],
   "source": [
    "import numpy as np\n",
    "def recommend_papers(title, top_n=5):\n",
    "  # Assuming df_clustered is a pandas DataFrame\n",
    "  paper_cluster = df_clustered[df_clustered[\"title\"] == title][\"prediction\"].iloc[0]\n",
    "  cluster_papers = df_clustered[df_clustered[\"prediction\"] == paper_cluster]\n",
    "  paper_features = df_clustered[df_clustered[\"title\"] == title][\"pca_features\"].iloc[0]\n",
    "\n",
    "  similarities = []\n",
    "  for _, row in cluster_papers.iterrows():\n",
    "    other_title = row[\"Dynamic analysis\"]\n",
    "    other_features = row[\"pca_features\"]\n",
    "    similarity = cosine_similarity(paper_features, other_features)\n",
    "    similarities.append((other_title, similarity))\n",
    "\n",
    "  similarities.sort(key=lambda x: x[1], reverse=True)\n",
    "  return similarities[:top_n]\n"
   ]
  },
  {
   "cell_type": "code",
   "execution_count": null,
   "id": "28765e6b-dda5-480d-a3d4-a519a7f9b96b",
   "metadata": {},
   "outputs": [],
   "source": []
  },
  {
   "cell_type": "code",
   "execution_count": null,
   "id": "965f8960-8db3-4649-9712-0ec1f624a64b",
   "metadata": {},
   "outputs": [],
   "source": []
  }
 ],
 "metadata": {
  "kernelspec": {
   "display_name": "Python 3 (ipykernel)",
   "language": "python",
   "name": "python3"
  },
  "language_info": {
   "codemirror_mode": {
    "name": "ipython",
    "version": 3
   },
   "file_extension": ".py",
   "mimetype": "text/x-python",
   "name": "python",
   "nbconvert_exporter": "python",
   "pygments_lexer": "ipython3",
   "version": "3.11.9"
  }
 },
 "nbformat": 4,
 "nbformat_minor": 5
}
