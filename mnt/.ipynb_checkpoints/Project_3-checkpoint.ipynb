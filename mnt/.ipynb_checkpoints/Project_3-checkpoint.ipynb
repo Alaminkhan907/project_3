{
  "cells": [
    {
      "cell_type": "code",
      "execution_count": 1,
      "metadata": {
        "colab": {
          "base_uri": "https://localhost:8080/"
        },
        "id": "ByRUZH0OWE_6",
        "outputId": "1b0e0e97-d68e-4d11-d237-4ca7bbb68aa9"
      },
      "outputs": [
        {
          "output_type": "stream",
          "name": "stdout",
          "text": [
            "Requirement already satisfied: pyspark in /usr/local/lib/python3.10/dist-packages (3.5.1)\n",
            "Requirement already satisfied: py4j==0.10.9.7 in /usr/local/lib/python3.10/dist-packages (from pyspark) (0.10.9.7)\n",
            "Requirement already satisfied: langid in /usr/local/lib/python3.10/dist-packages (1.1.6)\n",
            "Requirement already satisfied: numpy in /usr/local/lib/python3.10/dist-packages (from langid) (1.25.2)\n"
          ]
        }
      ],
      "source": [
        "#Importing all\n",
        "!pip install pyspark\n",
        "!pip install langid\n",
        "from pyspark.sql import SparkSession\n",
        "from pyspark.sql import functions as F\n",
        "from pyspark.ml.feature import StopWordsRemover, HashingTF, IDF, PCA ,Word2Vec\n",
        "from pyspark.ml.clustering import KMeans\n",
        "from pyspark.sql.functions import col, lower, regexp_replace, split, udf\n",
        "from pyspark.sql.types import StringType, DoubleType\n",
        "from pyspark.ml.linalg import Vectors, SparseVector\n",
        "import numpy as np\n",
        "import langid\n",
        "import matplotlib.pyplot as plt\n",
        "from pyspark.sql.functions import udf\n",
        "from pyspark.sql.types import StringType\n",
        "from pyspark.sql.functions import col, lower, regexp_replace, split\n",
        "from pyspark.ml.feature import StopWordsRemover\n",
        "from pyspark.sql import DataFrame\n",
        "# from pyspark.ml.feature import PCA\n",
        "from pyspark.ml.feature import VectorSlicer"
      ]
    },
    {
      "cell_type": "code",
      "execution_count": 2,
      "metadata": {
        "id": "CLE57oHSWL1y"
      },
      "outputs": [],
      "source": [
        "#Creating Spark session\n",
        "spark = SparkSession.builder \\\n",
        "    .config(\"spark.sql.shuffle.partitions\", 10) \\\n",
        "    .config(\"spark.executor.memory\", \"8g\") \\\n",
        "    .config(\"spark.driver.memory\", \"8g\") \\\n",
        "    .config(\"spark.driver.maxResultSize\", \"8g\") \\\n",
        "    .master(\"local[*]\") \\\n",
        "    .appName(\"Project 3\") \\\n",
        "    .getOrCreate()"
      ]
    },
    {
      "cell_type": "code",
      "execution_count": 3,
      "metadata": {
        "colab": {
          "base_uri": "https://localhost:8080/"
        },
        "id": "iUUoPs2-Wu7G",
        "outputId": "a5dfe7de-d3ae-447f-bf62-7bbd16a98cec"
      },
      "outputs": [
        {
          "output_type": "stream",
          "name": "stdout",
          "text": [
            "Archive:  /content/drive/MyDrive/dblp.v10.zip\n",
            "replace dblp-ref/dblp-ref-0.json? [y]es, [n]o, [A]ll, [N]one, [r]ename: "
          ]
        }
      ],
      "source": [
        "!unzip /content/drive/MyDrive/dblp.v10.zip\n",
        "#!unzip -u dblp.v10.zip"
      ]
    },
    {
      "cell_type": "code",
      "execution_count": 4,
      "metadata": {
        "colab": {
          "base_uri": "https://localhost:8080/"
        },
        "id": "bgbokIgjWvUp",
        "outputId": "6f6a31f0-df00-4c08-de31-08f083f7a109"
      },
      "outputs": [
        {
          "output_type": "stream",
          "name": "stdout",
          "text": [
            "+--------------------+--------------------+--------------------+----------+--------------------+--------------------+--------------------+----+\n",
            "|            abstract|             authors|                  id|n_citation|          references|               title|               venue|year|\n",
            "+--------------------+--------------------+--------------------+----------+--------------------+--------------------+--------------------+----+\n",
            "|The purpose of th...|[Makoto Satoh, Ry...|00127ee2-cb05-48c...|         0|[51c7e02e-f5ed-43...|Preliminary Desig...|international con...|2013|\n",
            "|This paper descri...|[Gareth Beale, Gr...|001c58d3-26ad-46b...|        50|[10482dd3-4642-41...|A methodology for...|visual analytics ...|2011|\n",
            "|This article appl...|[Altaf Hossain, F...|001c8744-73c4-4b0...|        50|[2d84c0f2-e656-4c...|Comparison of GAR...|pattern recogniti...|2009|\n",
            "|                NULL|[Jea-Bum Park, By...|00338203-9eb3-40c...|         0|[8c78e4b0-632b-42...|Development of Re...|                    |2011|\n",
            "|                NULL|[Giovanna Guerrin...|0040b022-1472-4f7...|         2|                NULL|Reasonig about Se...|                    |1998|\n",
            "+--------------------+--------------------+--------------------+----------+--------------------+--------------------+--------------------+----+\n",
            "only showing top 5 rows\n",
            "\n"
          ]
        }
      ],
      "source": [
        "### Reading and understanding the data set start\n",
        "\n",
        "from functools import reduce\n",
        "\n",
        "#Read and Combine all 4 into single file\n",
        "file_paths = [\"/content/dblp-ref/dblp-ref-0.json\", \"/content/dblp-ref/dblp-ref-1.json\", \"/content/dblp-ref/dblp-ref-2.json\", \"/content/dblp-ref/dblp-ref-3.json\"]\n",
        "dfs = [spark.read.json(file_path) for file_path in file_paths]\n",
        "df = reduce(lambda df1, df2: df1.union(df2), dfs)\n",
        "df.show(5)\n",
        "\n",
        "#on Pc\n",
        "# df = spark.read.json(\"./dblp-ref/dblp-ref-0.json\")"
      ]
    },
    {
      "cell_type": "code",
      "execution_count": 5,
      "metadata": {
        "colab": {
          "base_uri": "https://localhost:8080/"
        },
        "id": "Zhyo92fIXcha",
        "outputId": "deeb10a2-1da7-443d-fda3-0494736a4734"
      },
      "outputs": [
        {
          "output_type": "stream",
          "name": "stdout",
          "text": [
            "root\n",
            " |-- abstract: string (nullable = true)\n",
            " |-- authors: array (nullable = true)\n",
            " |    |-- element: string (containsNull = true)\n",
            " |-- id: string (nullable = true)\n",
            " |-- n_citation: long (nullable = true)\n",
            " |-- references: array (nullable = true)\n",
            " |    |-- element: string (containsNull = true)\n",
            " |-- title: string (nullable = true)\n",
            " |-- venue: string (nullable = true)\n",
            " |-- year: long (nullable = true)\n",
            "\n",
            "+--------------------+--------------------+--------------------+----------+--------------------+--------------------+--------------------+----+\n",
            "|            abstract|             authors|                  id|n_citation|          references|               title|               venue|year|\n",
            "+--------------------+--------------------+--------------------+----------+--------------------+--------------------+--------------------+----+\n",
            "|The purpose of th...|[Makoto Satoh, Ry...|00127ee2-cb05-48c...|         0|[51c7e02e-f5ed-43...|Preliminary Desig...|international con...|2013|\n",
            "|This paper descri...|[Gareth Beale, Gr...|001c58d3-26ad-46b...|        50|[10482dd3-4642-41...|A methodology for...|visual analytics ...|2011|\n",
            "|This article appl...|[Altaf Hossain, F...|001c8744-73c4-4b0...|        50|[2d84c0f2-e656-4c...|Comparison of GAR...|pattern recogniti...|2009|\n",
            "|                NULL|[Jea-Bum Park, By...|00338203-9eb3-40c...|         0|[8c78e4b0-632b-42...|Development of Re...|                    |2011|\n",
            "|                NULL|[Giovanna Guerrin...|0040b022-1472-4f7...|         2|                NULL|Reasonig about Se...|                    |1998|\n",
            "+--------------------+--------------------+--------------------+----------+--------------------+--------------------+--------------------+----+\n",
            "only showing top 5 rows\n",
            "\n",
            "Number of records: 3079007\n"
          ]
        }
      ],
      "source": [
        "# Printing schema\n",
        "df.printSchema()\n",
        "df.show(5)\n",
        "print(f\"Number of records: {df.count()}\")\n",
        "\n",
        "## End of reading dataset"
      ]
    },
    {
      "cell_type": "code",
      "execution_count": 6,
      "metadata": {
        "colab": {
          "base_uri": "https://localhost:8080/"
        },
        "id": "XVTZM13GXdLX",
        "outputId": "bde3749b-2824-435e-a3b8-86450ac23396"
      },
      "outputs": [
        {
          "output_type": "stream",
          "name": "stdout",
          "text": [
            "+-------+--------------------+--------------------+------------------+-------------------------------------+--------------------+------------------+\n",
            "|summary|            abstract|                  id|        n_citation|                                title|               venue|              year|\n",
            "+-------+--------------------+--------------------+------------------+-------------------------------------+--------------------+------------------+\n",
            "|  count|             2548532|             3079007|           3079007|                              3079007|             3079007|           3079007|\n",
            "|   mean|                NULL|                NULL|35.220902713114974|                                 NULL|                NULL|2007.7665994263734|\n",
            "| stddev|                NULL|                NULL|157.70065110545153|                                 NULL|                NULL| 7.816538498622348|\n",
            "|    min|\u000e\u000f\u0010\u0010\u0011 \u0012\u0013\u0010\u0014 \u000e\u000f\u0010\u0011 \u0012...|000000b8-7f59-49a...|                 0|                 ! and ? – Storage...|                    |              1936|\n",
            "|    max|𝑘�������-Anonymo...|ffffe1e6-981e-4cf...|             73362|利用雙語學術名詞庫抽取中英字詞互譯...|worst-case execut...|              2018|\n",
            "+-------+--------------------+--------------------+------------------+-------------------------------------+--------------------+------------------+\n",
            "\n",
            "+--------+-------+---+----------+----------+-----+-----+----+\n",
            "|abstract|authors| id|n_citation|references|title|venue|year|\n",
            "+--------+-------+---+----------+----------+-----+-----+----+\n",
            "|  530475|      4|  0|         0|    362865|    0|    0|   0|\n",
            "+--------+-------+---+----------+----------+-----+-----+----+\n",
            "\n",
            "+-------+------------------+\n",
            "|summary|        n_citation|\n",
            "+-------+------------------+\n",
            "|  count|           3079007|\n",
            "|   mean|35.220902713114974|\n",
            "| stddev|157.70065110545153|\n",
            "|    min|                 0|\n",
            "|    max|             73362|\n",
            "+-------+------------------+\n",
            "\n",
            "+--------+--------------------+--------------------+----------+--------------------+--------------------+--------------------+----+\n",
            "|abstract|             authors|                  id|n_citation|          references|               title|               venue|year|\n",
            "+--------+--------------------+--------------------+----------+--------------------+--------------------+--------------------+----+\n",
            "|    NULL|[Jea-Bum Park, By...|00338203-9eb3-40c...|         0|[8c78e4b0-632b-42...|Development of Re...|                    |2011|\n",
            "|    NULL|[Giovanna Guerrin...|0040b022-1472-4f7...|         2|                NULL|Reasonig about Se...|                    |1998|\n",
            "|    NULL|[Rafael Álvarez, ...|005ce28f-ed77-4e9...|         0|                NULL|COMPARING GNG3D A...|international con...|2009|\n",
            "|    NULL|[Jovan Dj. Golic,...|00638a94-23bf-4fa...|         2|                NULL|Vectorial fast co...|                    |2004|\n",
            "|    NULL|[Guzin Ulutas, Mu...|00701b05-684f-45f...|         0|[5626736c-e434-4e...|Improved Secret I...|international sym...|2011|\n",
            "|    NULL|[Pranay Chaudhuri...|00745041-3636-4d1...|         0|                NULL|A Self-Stabilizin...|parallel and dist...|2003|\n",
            "|    NULL|[Dominik Szajerma...|00964544-cbe2-4da...|         0|[3fcd7cdc-20e6-4e...|Fur Visualisation...|international con...|2014|\n",
            "|    NULL|[David Al-Dabass,...|00ba1eb4-d1aa-458...|         0|                NULL|Simulation of a v...|                    |1995|\n",
            "|    NULL|[Reiko Heckel, To...|00dc2bba-3237-4d4...|        50|                NULL|Software Evolutio...|Electronic Notes ...|2003|\n",
            "|    NULL|[Milos Zelezný, P...|00e02aeb-b424-4ca...|         7|                NULL|Design of an audi...|conference of the...|2002|\n",
            "|    NULL|[Abdullah Alsubai...|00e3940b-201b-40b...|         6|[0293844d-7244-45...|A Platform for Di...|                    |2013|\n",
            "|    NULL|[Tien Ho-Phuoc, A...|00fd4f6f-c7a1-49a...|         3|                NULL|A COMPUTATIONAL S...|international con...|2009|\n",
            "|    NULL|[Marco Baroni, Fr...|01082175-d4e3-456...|       101|                NULL|Cleaneval: a Comp...|language resource...|2008|\n",
            "|    NULL|[Nebojsa M. Ralev...|010fda73-e708-489...|         0|[17d92951-cd71-49...|Algorithms for th...|                    |2007|\n",
            "|    NULL|[William Perrizo,...|01103168-55d8-42b...|         0|                NULL|Vertical Database...|                    |2005|\n",
            "|    NULL|[Norihiko Moriwak...|014df191-abb2-44c...|         0|[08704b8d-70a1-44...|Sensor-Data-Drive...|                    |2014|\n",
            "|    NULL|[Prudence W. H. W...|01546472-0ac9-47f...|         6|[08784bb3-09b9-4b...|An 8/3 Lower Boun...|international sym...|2012|\n",
            "|    NULL|[Olivia Mendoza, ...|016eba4d-f912-492...|        50|[159fdfd2-921e-42...|Comparison of Fuz...|      soft computing|2010|\n",
            "|    NULL|[Martine Collard,...|01733dc2-4910-40d...|         3|[0102f234-e30b-4b...|Extracted Knowled...|research challeng...|2007|\n",
            "|    NULL|[Yosuke Furukawa,...|019a51de-5136-41c...|        50|                NULL|Context Dependent...|Journal of Advanc...|2007|\n",
            "+--------+--------------------+--------------------+----------+--------------------+--------------------+--------------------+----+\n",
            "only showing top 20 rows\n",
            "\n"
          ]
        }
      ],
      "source": [
        "### Dataset exloper and feature extrations\n",
        "\n",
        "# Display summary statistics\n",
        "df.describe().show()\n",
        "\n",
        "# Check for missing values\n",
        "df.select([F.count(F.when(F.col(c).isNull(), c)).alias(c) for c in df.columns]).show()\n",
        "\n",
        "# Distribution of citations\n",
        "df.select(\"n_citation\").describe().show()\n",
        "\n",
        "# Check for null abstracts and titles\n",
        "df.filter(df.abstract.isNull() | df.title.isNull()).show()\n",
        "\n",
        "\n",
        "### End of features"
      ]
    },
    {
      "cell_type": "code",
      "execution_count": 7,
      "metadata": {
        "colab": {
          "base_uri": "https://localhost:8080/"
        },
        "id": "gEqMbfVlXo8h",
        "outputId": "a7d6267d-f1ac-4c2f-ef5d-48b41e028687"
      },
      "outputs": [
        {
          "output_type": "stream",
          "name": "stdout",
          "text": [
            "+--------------------+--------------------+--------------------+----------+--------------------+--------------------+--------------------+----+--------+\n",
            "|            abstract|             authors|                  id|n_citation|          references|               title|               venue|year|language|\n",
            "+--------------------+--------------------+--------------------+----------+--------------------+--------------------+--------------------+----+--------+\n",
            "|The purpose of th...|[Makoto Satoh, Ry...|00127ee2-cb05-48c...|         0|[51c7e02e-f5ed-43...|Preliminary Desig...|international con...|2013|      en|\n",
            "|This paper descri...|[Gareth Beale, Gr...|001c58d3-26ad-46b...|        50|[10482dd3-4642-41...|A methodology for...|visual analytics ...|2011|      en|\n",
            "|This article appl...|[Altaf Hossain, F...|001c8744-73c4-4b0...|        50|[2d84c0f2-e656-4c...|Comparison of GAR...|pattern recogniti...|2009|      en|\n",
            "|Recent achievemen...|[Ankita Brahmacha...|00a119c4-d367-460...|         0|[84d47128-58d0-41...|Identifying Psych...|                    |2013|      en|\n",
            "|Recently, Bridges...|[Alvaro L. Islas,...|00bcf2d5-1592-46b...|        50|                  []|Multisymplectic S...|international con...|2002|      en|\n",
            "|Most applications...|[Patrick Cousot, ...|00c85316-bddf-4bc...|        50|[6e8a3ec3-9a99-4f...|Relational Abstra...|                    |1991|      en|\n",
            "|Three speech trai...|[Minoru Shigenaga...|00ca027b-5174-40f...|         0|                NULL|Speech training s...|international joi...|1979|      en|\n",
            "|This paper focuse...|[Efthymios Alepis...|00dd5ece-1339-4cb...|        50|[522bea13-bd45-49...|Knowledge Enginee...|joint conference ...|2008|      en|\n",
            "|Embedded systems ...|[Matias Madou, Bj...|01047814-b615-444...|        50|                NULL|Link-time compact...|european symposiu...|2004|      en|\n",
            "|Xax is a browser ...|[John R. Douceur,...|010d4ce9-0279-416...|        50|[0abc9de7-e047-44...|Leveraging legacy...|operating systems...|2008|      en|\n",
            "|In recent years, ...|[Hiroshi Furukawa...|010d9907-45ef-459...|         7|[b2f0e0d3-0071-40...|A pedestrian navi...|international con...|2013|      en|\n",
            "|Previous language...|[Carmen Fernández...|012b88ae-a763-45d...|        50|[00515e82-3da6-49...|Word pairs in lan...|                    |2004|      en|\n",
            "|Spatial encryptio...|[Michel Abdalla, ...|016a9a21-e882-4cd...|        50|[3140c9ba-8d98-42...|Leakage-Resilient...|                    |2012|      en|\n",
            "|In system operati...|[Mark Burgess, Al...|01705f09-d395-4a0...|         8|[363278e2-6c9d-45...|On system rollbac...|The Journal of Lo...|2011|      en|\n",
            "|Business strategy...|[Constantinos Gia...|01b6f2ca-3903-419...|        12|[0ce446cf-4f4f-49...|Model-Driven Stra...|                    |2012|      en|\n",
            "|FTP Mirror Tracke...|[Alexei Novikov, ...|01ccb92f-46f1-400...|         0|                  []|FTP Mirror Tracke...|usenix large inst...|2000|      en|\n",
            "|There are a numbe...|[Theresa Beauboue...|01edeac9-cd8b-46f...|         0|[09b666de-6279-48...|Information Syste...|                    |2014|      en|\n",
            "|Breast cancer is ...|[Bartosz Krawczyk...|0265aea8-65f3-4f4...|        50|[16f0341b-538d-40...|Breast Cancer Ide...|                    |2013|      en|\n",
            "|The development o...|[J. Niblock, Jian...|028d37c8-b571-41b...|         0|[8fc06656-ed2a-46...|Automated Object ...|international con...|2008|      en|\n",
            "|Quality specified...|[Qiong Liu, You Y...|02a5e8a8-061e-4c1...|         3|[04f8d077-765a-41...|Quality Assessmen...|conference on mul...|2013|      en|\n",
            "+--------------------+--------------------+--------------------+----------+--------------------+--------------------+--------------------+----+--------+\n",
            "only showing top 20 rows\n",
            "\n"
          ]
        }
      ],
      "source": [
        "### Data pre-processing\n",
        "\n",
        "#Language Filtering\n",
        "def detect_language(text):\n",
        "    if text is None:\n",
        "        return None\n",
        "    lang, _ = langid.classify(text)\n",
        "    return lang\n",
        "lang_detect_udf = udf(detect_language, StringType())\n",
        "df = df.withColumn(\"language\", lang_detect_udf(df.abstract))\n",
        "df = df.filter(df.language == 'en')\n",
        "df.show()"
      ]
    },
    {
      "cell_type": "code",
      "execution_count": 8,
      "metadata": {
        "id": "uStSKA_oZ3Ve"
      },
      "outputs": [],
      "source": [
        "###Text Cleaning\n",
        "custom_stop_words = ['doi', 'preprint', 'copyright', 'peer', 'reviewed', 'org', 'https', 'et', 'al',\n",
        "                     'author', 'figure', 'rights', 'reserved', 'permission', 'used', 'using',\n",
        "                     'biorxiv', 'medrxiv', 'license', 'fig', 'fig.', 'al.', 'Elsevier', 'PMC',\n",
        "                     'CZI', 'www']"
      ]
    },
    {
      "cell_type": "code",
      "execution_count": 9,
      "metadata": {
        "colab": {
          "base_uri": "https://localhost:8080/"
        },
        "id": "jM9AEPrMZ7Oy",
        "outputId": "f9e7107e-0a78-471a-f1f8-3cfc79f28738"
      },
      "outputs": [
        {
          "output_type": "stream",
          "name": "stdout",
          "text": [
            "+--------------------+--------------------+--------------------+----------+--------------------+--------------------+--------------------+----+--------+--------------------+\n",
            "|            abstract|             authors|                  id|n_citation|          references|               title|               venue|year|language|    cleaned_abstract|\n",
            "+--------------------+--------------------+--------------------+----------+--------------------+--------------------+--------------------+----+--------+--------------------+\n",
            "|The purpose of th...|[Makoto Satoh, Ry...|00127ee2-cb05-48c...|         0|[51c7e02e-f5ed-43...|Preliminary Desig...|international con...|2013|      en|the purpose of th...|\n",
            "|This paper descri...|[Gareth Beale, Gr...|001c58d3-26ad-46b...|        50|[10482dd3-4642-41...|A methodology for...|visual analytics ...|2011|      en|this paper descri...|\n",
            "|This article appl...|[Altaf Hossain, F...|001c8744-73c4-4b0...|        50|[2d84c0f2-e656-4c...|Comparison of GAR...|pattern recogniti...|2009|      en|this article appl...|\n",
            "|Recent achievemen...|[Ankita Brahmacha...|00a119c4-d367-460...|         0|[84d47128-58d0-41...|Identifying Psych...|                    |2013|      en|recent achievemen...|\n",
            "|Recently, Bridges...|[Alvaro L. Islas,...|00bcf2d5-1592-46b...|        50|                  []|Multisymplectic S...|international con...|2002|      en|recently bridges ...|\n",
            "|Most applications...|[Patrick Cousot, ...|00c85316-bddf-4bc...|        50|[6e8a3ec3-9a99-4f...|Relational Abstra...|                    |1991|      en|most applications...|\n",
            "|Three speech trai...|[Minoru Shigenaga...|00ca027b-5174-40f...|         0|                NULL|Speech training s...|international joi...|1979|      en|three speech trai...|\n",
            "|This paper focuse...|[Efthymios Alepis...|00dd5ece-1339-4cb...|        50|[522bea13-bd45-49...|Knowledge Enginee...|joint conference ...|2008|      en|this paper focuse...|\n",
            "|Embedded systems ...|[Matias Madou, Bj...|01047814-b615-444...|        50|                NULL|Link-time compact...|european symposiu...|2004|      en|embedded systems ...|\n",
            "|Xax is a browser ...|[John R. Douceur,...|010d4ce9-0279-416...|        50|[0abc9de7-e047-44...|Leveraging legacy...|operating systems...|2008|      en|xax is a browser ...|\n",
            "|In recent years, ...|[Hiroshi Furukawa...|010d9907-45ef-459...|         7|[b2f0e0d3-0071-40...|A pedestrian navi...|international con...|2013|      en|in recent years m...|\n",
            "|Previous language...|[Carmen Fernández...|012b88ae-a763-45d...|        50|[00515e82-3da6-49...|Word pairs in lan...|                    |2004|      en|previous language...|\n",
            "|Spatial encryptio...|[Michel Abdalla, ...|016a9a21-e882-4cd...|        50|[3140c9ba-8d98-42...|Leakage-Resilient...|                    |2012|      en|spatial encryptio...|\n",
            "|In system operati...|[Mark Burgess, Al...|01705f09-d395-4a0...|         8|[363278e2-6c9d-45...|On system rollbac...|The Journal of Lo...|2011|      en|in system operati...|\n",
            "|Business strategy...|[Constantinos Gia...|01b6f2ca-3903-419...|        12|[0ce446cf-4f4f-49...|Model-Driven Stra...|                    |2012|      en|business strategy...|\n",
            "|FTP Mirror Tracke...|[Alexei Novikov, ...|01ccb92f-46f1-400...|         0|                  []|FTP Mirror Tracke...|usenix large inst...|2000|      en|ftp mirror tracke...|\n",
            "|There are a numbe...|[Theresa Beauboue...|01edeac9-cd8b-46f...|         0|[09b666de-6279-48...|Information Syste...|                    |2014|      en|there are a numbe...|\n",
            "|Breast cancer is ...|[Bartosz Krawczyk...|0265aea8-65f3-4f4...|        50|[16f0341b-538d-40...|Breast Cancer Ide...|                    |2013|      en|breast cancer is ...|\n",
            "|The development o...|[J. Niblock, Jian...|028d37c8-b571-41b...|         0|[8fc06656-ed2a-46...|Automated Object ...|international con...|2008|      en|the development o...|\n",
            "|Quality specified...|[Qiong Liu, You Y...|02a5e8a8-061e-4c1...|         3|[04f8d077-765a-41...|Quality Assessmen...|conference on mul...|2013|      en|quality specified...|\n",
            "+--------------------+--------------------+--------------------+----------+--------------------+--------------------+--------------------+----+--------+--------------------+\n",
            "only showing top 20 rows\n",
            "\n"
          ]
        }
      ],
      "source": [
        "# Lowercase and remove punctuation\n",
        "df_cleaned = df.withColumn(\"cleaned_abstract\", lower(col(\"abstract\")))\n",
        "df_cleaned = df_cleaned.withColumn(\"cleaned_abstract\", regexp_replace(col(\"cleaned_abstract\"), r'[!()\\-\\[\\]{};:\\'\",<>./?@#$%^&*_~]', ''))\n",
        "df_cleaned.show()"
      ]
    },
    {
      "cell_type": "code",
      "execution_count": 10,
      "metadata": {
        "id": "utvjS3YyZ8d9"
      },
      "outputs": [],
      "source": [
        "# Tokenize the text\n",
        "df_tokenized = df_cleaned.withColumn(\"tokenized_abstract\", split(col(\"cleaned_abstract\"), \" \"))"
      ]
    },
    {
      "cell_type": "code",
      "execution_count": 11,
      "metadata": {
        "colab": {
          "base_uri": "https://localhost:8080/"
        },
        "id": "X1c-eET1Z8ag",
        "outputId": "0bd50c14-a5bd-4ef1-cf5f-61168245f03c"
      },
      "outputs": [
        {
          "output_type": "stream",
          "name": "stdout",
          "text": [
            "+--------------------+--------------------+--------------------+----------+--------------------+--------------------+--------------------+----+--------+--------------------+--------------------+--------------------+\n",
            "|            abstract|             authors|                  id|n_citation|          references|               title|               venue|year|language|    cleaned_abstract|  tokenized_abstract|   filtered_abstract|\n",
            "+--------------------+--------------------+--------------------+----------+--------------------+--------------------+--------------------+----+--------+--------------------+--------------------+--------------------+\n",
            "|The purpose of th...|[Makoto Satoh, Ry...|00127ee2-cb05-48c...|         0|[51c7e02e-f5ed-43...|Preliminary Desig...|international con...|2013|      en|the purpose of th...|[the, purpose, of...|[purpose, study, ...|\n",
            "|This paper descri...|[Gareth Beale, Gr...|001c58d3-26ad-46b...|        50|[10482dd3-4642-41...|A methodology for...|visual analytics ...|2011|      en|this paper descri...|[this, paper, des...|[paper, describes...|\n",
            "|This article appl...|[Altaf Hossain, F...|001c8744-73c4-4b0...|        50|[2d84c0f2-e656-4c...|Comparison of GAR...|pattern recogniti...|2009|      en|this article appl...|[this, article, a...|[article, applied...|\n",
            "|Recent achievemen...|[Ankita Brahmacha...|00a119c4-d367-460...|         0|[84d47128-58d0-41...|Identifying Psych...|                    |2013|      en|recent achievemen...|[recent, achievem...|[recent, achievem...|\n",
            "|Recently, Bridges...|[Alvaro L. Islas,...|00bcf2d5-1592-46b...|        50|                  []|Multisymplectic S...|international con...|2002|      en|recently bridges ...|[recently, bridge...|[recently, bridge...|\n",
            "|Most applications...|[Patrick Cousot, ...|00c85316-bddf-4bc...|        50|[6e8a3ec3-9a99-4f...|Relational Abstra...|                    |1991|      en|most applications...|[most, applicatio...|[applications, ab...|\n",
            "|Three speech trai...|[Minoru Shigenaga...|00ca027b-5174-40f...|         0|                NULL|Speech training s...|international joi...|1979|      en|three speech trai...|[three, speech, t...|[three, speech, t...|\n",
            "|This paper focuse...|[Efthymios Alepis...|00dd5ece-1339-4cb...|        50|[522bea13-bd45-49...|Knowledge Enginee...|joint conference ...|2008|      en|this paper focuse...|[this, paper, foc...|[paper, focuses, ...|\n",
            "|Embedded systems ...|[Matias Madou, Bj...|01047814-b615-444...|        50|                NULL|Link-time compact...|european symposiu...|2004|      en|embedded systems ...|[embedded, system...|[embedded, system...|\n",
            "|Xax is a browser ...|[John R. Douceur,...|010d4ce9-0279-416...|        50|[0abc9de7-e047-44...|Leveraging legacy...|operating systems...|2008|      en|xax is a browser ...|[xax, is, a, brow...|[xax, browser, pl...|\n",
            "|In recent years, ...|[Hiroshi Furukawa...|010d9907-45ef-459...|         7|[b2f0e0d3-0071-40...|A pedestrian navi...|international con...|2013|      en|in recent years m...|[in, recent, year...|[recent, years, m...|\n",
            "|Previous language...|[Carmen Fernández...|012b88ae-a763-45d...|        50|[00515e82-3da6-49...|Word pairs in lan...|                    |2004|      en|previous language...|[previous, langua...|[previous, langua...|\n",
            "|Spatial encryptio...|[Michel Abdalla, ...|016a9a21-e882-4cd...|        50|[3140c9ba-8d98-42...|Leakage-Resilient...|                    |2012|      en|spatial encryptio...|[spatial, encrypt...|[spatial, encrypt...|\n",
            "|In system operati...|[Mark Burgess, Al...|01705f09-d395-4a0...|         8|[363278e2-6c9d-45...|On system rollbac...|The Journal of Lo...|2011|      en|in system operati...|[in, system, oper...|[system, operatio...|\n",
            "|Business strategy...|[Constantinos Gia...|01b6f2ca-3903-419...|        12|[0ce446cf-4f4f-49...|Model-Driven Stra...|                    |2012|      en|business strategy...|[business, strate...|[business, strate...|\n",
            "|FTP Mirror Tracke...|[Alexei Novikov, ...|01ccb92f-46f1-400...|         0|                  []|FTP Mirror Tracke...|usenix large inst...|2000|      en|ftp mirror tracke...|[ftp, mirror, tra...|[ftp, mirror, tra...|\n",
            "|There are a numbe...|[Theresa Beauboue...|01edeac9-cd8b-46f...|         0|[09b666de-6279-48...|Information Syste...|                    |2014|      en|there are a numbe...|[there, are, a, n...|[number, alternat...|\n",
            "|Breast cancer is ...|[Bartosz Krawczyk...|0265aea8-65f3-4f4...|        50|[16f0341b-538d-40...|Breast Cancer Ide...|                    |2013|      en|breast cancer is ...|[breast, cancer, ...|[breast, cancer, ...|\n",
            "|The development o...|[J. Niblock, Jian...|028d37c8-b571-41b...|         0|[8fc06656-ed2a-46...|Automated Object ...|international con...|2008|      en|the development o...|[the, development...|[development, aut...|\n",
            "|Quality specified...|[Qiong Liu, You Y...|02a5e8a8-061e-4c1...|         3|[04f8d077-765a-41...|Quality Assessmen...|conference on mul...|2013|      en|quality specified...|[quality, specifi...|[quality, specifi...|\n",
            "+--------------------+--------------------+--------------------+----------+--------------------+--------------------+--------------------+----+--------+--------------------+--------------------+--------------------+\n",
            "only showing top 20 rows\n",
            "\n"
          ]
        }
      ],
      "source": [
        "# Remove stop words\n",
        "remover = StopWordsRemover(inputCol=\"tokenized_abstract\", outputCol=\"filtered_abstract\",\n",
        "                           stopWords=StopWordsRemover().getStopWords() + custom_stop_words)\n",
        "df_filtered = remover.transform(df_tokenized)\n",
        "df_filtered.show()"
      ]
    },
    {
      "cell_type": "code",
      "source": [
        "# # Train a Word2Vec model\n",
        "# word2vec = Word2Vec(vectorSize=10, minCount=1, inputCol=\"filtered_abstract\", outputCol=\"features\")\n",
        "# model = word2vec.fit(df_filtered)\n",
        "# df_vectorized = model.transform(df_filtered)"
      ],
      "metadata": {
        "id": "5H9Fr9tRRjnJ"
      },
      "execution_count": null,
      "outputs": []
    },
    {
      "cell_type": "code",
      "execution_count": 12,
      "metadata": {
        "id": "C29EQFAgZ8G9"
      },
      "outputs": [],
      "source": [
        "# Apply TF\n",
        "hashingTF = HashingTF(inputCol=\"filtered_abstract\", outputCol=\"rawFeatures\", numFeatures=20000)\n",
        "df_featurized = hashingTF.transform(df_filtered)\n",
        "# df_featurized.show()"
      ]
    },
    {
      "cell_type": "code",
      "execution_count": null,
      "metadata": {
        "id": "eFEd2WkOZ8Dm"
      },
      "outputs": [],
      "source": [
        "# Apply IDF\n",
        "idf = IDF(inputCol=\"rawFeatures\", outputCol=\"features\")\n",
        "idf_model = idf.fit(df_featurized)\n",
        "df_vectorized = idf_model.transform(df_featurized)\n",
        "df_vectorized.show()"
      ]
    },
    {
      "cell_type": "code",
      "execution_count": null,
      "metadata": {
        "id": "nd-pNciRZ8BP"
      },
      "outputs": [],
      "source": [
        "# Select only the columns we need\n",
        "df_vectorized = df_vectorized.select(\"id\", \"title\", \"features\")\n",
        "df_vectorized.show(5)"
      ]
    },
    {
      "cell_type": "code",
      "execution_count": null,
      "metadata": {
        "id": "eSbM49X_aL7_"
      },
      "outputs": [],
      "source": [
        "#Clustering\n",
        "\n",
        "def sample_data(df, fraction, max_attempts=5):\n",
        "    attempt = 0\n",
        "    sampled_df = df.sample(fraction=fraction, seed=42)\n",
        "    while sampled_df.count() == 0 and attempt < max_attempts:\n",
        "        fraction *= 2  # Increase fraction to get more data\n",
        "        sampled_df = df.sample(fraction=fraction, seed=42)\n",
        "        attempt += 1\n",
        "    if sampled_df.count() == 0:\n",
        "        raise ValueError(\"Sampled DataFrame is empty after several attempts.\")\n",
        "    return sampled_df\n",
        "\n",
        "# Sample the data with initial fraction 0.1\n",
        "df_sampled = sample_data(df_vectorized, 0.1)\n",
        "print(df_sampled)\n",
        "print(f\"Sampled DataFrame count: {df_sampled.count()}\")\n",
        "df_sampled.show(5)\n"
      ]
    },
    {
      "cell_type": "code",
      "execution_count": null,
      "metadata": {
        "id": "cjVRAkJ8aL4h"
      },
      "outputs": [],
      "source": [
        "# pca = PCA(k=2, inputCol=\"features\", outputCol=\"pca_features\")\n",
        "# pca_model = pca.fit(df_sampled)\n",
        "# df_pca = pca_model.transform(df_sampled)\n",
        "# df_pca.show()"
      ]
    },
    {
      "cell_type": "code",
      "execution_count": null,
      "metadata": {
        "id": "BUsGxjWHaL1P"
      },
      "outputs": [],
      "source": [
        "# Use VectorSlicer to select relevant features\n",
        "slicer = VectorSlicer(inputCol=\"features\", outputCol=\"sliced_features\", indices=[i for i in range(0, 50)])\n",
        "df_sliced = slicer.transform(df_sampled)\n",
        "\n",
        "# Update PCA to use sliced features\n",
        "pca = PCA(k=2, inputCol=\"sliced_features\", outputCol=\"pca_features\")\n",
        "\n",
        "# Repartition the data to increase parallelism\n",
        "df_sampled_repartitioned = df_sliced.repartition(100)\n",
        "\n",
        "# Persist the DataFrame to speed up the computation\n",
        "df_sampled_repartitioned.persist()\n",
        "\n",
        "# Fit the PCA model\n",
        "pca_model = pca.fit(df_sampled_repartitioned)\n",
        "\n",
        "# Transform the data using the PCA model\n",
        "df_pca = pca_model.transform(df_sampled_repartitioned)\n",
        "\n",
        "# Show the result (for debugging purposes)\n",
        "df_pca.show()"
      ]
    },
    {
      "cell_type": "code",
      "execution_count": null,
      "metadata": {
        "id": "aNPzU6qWaLyT"
      },
      "outputs": [],
      "source": [
        "df_pca.select(\"pca_features\").show(truncate=False)"
      ]
    },
    {
      "cell_type": "code",
      "execution_count": null,
      "metadata": {
        "id": "3fuypXfUaLvo"
      },
      "outputs": [],
      "source": []
    },
    {
      "cell_type": "code",
      "source": [
        "from pyspark.sql.types import IntegerType\n",
        "\n",
        "def vector_length(vector):\n",
        "    return len(vector)\n",
        "\n",
        "vector_length_udf = udf(vector_length, IntegerType())\n",
        "df_pca = df_pca.withColumn(\"pca_feature_length\", vector_length_udf(df_pca[\"pca_features\"]))\n",
        "df_pca.select(\"pca_feature_length\").distinct().show()"
      ],
      "metadata": {
        "id": "Pr2k5jVXONyX"
      },
      "execution_count": null,
      "outputs": []
    },
    {
      "cell_type": "code",
      "source": [
        "# from pyspark.ml.clustering import KMeans\n",
        "\n",
        "# # Apply K-means clustering with 20 clusters\n",
        "# kmeans = KMeans(k=100, seed=1, featuresCol=\"pca_features\")\n",
        "# model = kmeans.fit(df_pca)\n",
        "# df_clustered = model.transform(df_pca)\n",
        "# df_clustered.show()"
      ],
      "metadata": {
        "id": "Td6rIbVFScwy"
      },
      "execution_count": null,
      "outputs": []
    },
    {
      "cell_type": "code",
      "source": [
        "# Elbow Method to Find Optimal K\n",
        "costs = []\n",
        "for k in range(2, 21):\n",
        "    kmeans = KMeans(k=k, seed=1, featuresCol=\"pca_features\")\n",
        "    model = kmeans.fit(df_pca)\n",
        "    costs.append(model.summary.trainingCost)\n",
        "\n",
        "plt.plot(range(2, 21), costs, marker='o')\n",
        "plt.xlabel('Number of Clusters (k)')\n",
        "plt.ylabel('Cost')\n",
        "plt.title('Elbow Method for Optimal k')\n",
        "plt.show()"
      ],
      "metadata": {
        "id": "hXA9heMlONui"
      },
      "execution_count": null,
      "outputs": []
    },
    {
      "cell_type": "code",
      "source": [
        "# import matplotlib.pyplot as plt\n",
        "\n",
        "# # Elbow Method to Find Optimal K\n",
        "# costs = []\n",
        "# for k in range(2, 41):\n",
        "#     kmeans = KMeans(k=k, seed=1, featuresCol=\"pca_features\")\n",
        "#     model = kmeans.fit(df_pca)\n",
        "#     costs.append(model.summary.trainingCost)\n",
        "\n",
        "# plt.plot(range(2, 41), costs, marker='o')\n",
        "# plt.xlabel('Number of Clusters (k)')\n",
        "# plt.ylabel('Cost')\n",
        "# plt.title('Elbow Method for Optimal k')\n",
        "# plt.show()"
      ],
      "metadata": {
        "id": "5sQyUErSSnA1"
      },
      "execution_count": null,
      "outputs": []
    },
    {
      "cell_type": "code",
      "source": [
        "import numpy as np\n",
        "def recommend_papers(title, top_n=5):\n",
        "  # Assuming df_clustered is a pandas DataFrame\n",
        "  paper_cluster = df_clustered[df_clustered[\"title\"] == title][\"prediction\"].iloc[0]\n",
        "  cluster_papers = df_clustered[df_clustered[\"prediction\"] == paper_cluster]\n",
        "  paper_features = df_clustered[df_clustered[\"title\"] == title][\"pca_features\"].iloc[0]\n",
        "\n",
        "  similarities = []\n",
        "  for _, row in cluster_papers.iterrows():\n",
        "    other_title = row[\"Dynamic analysis\"]\n",
        "    other_features = row[\"pca_features\"]\n",
        "    similarity = cosine_similarity(paper_features, other_features)\n",
        "    similarities.append((other_title, similarity))\n",
        "\n",
        "  similarities.sort(key=lambda x: x[1], reverse=True)\n",
        "  return similarities[:top_n]"
      ],
      "metadata": {
        "id": "Q5UCILqKONoO"
      },
      "execution_count": null,
      "outputs": []
    },
    {
      "cell_type": "code",
      "source": [
        "# # Basic search engine function\n",
        "# def recommend_papers(title, top_n=5):\n",
        "#     paper_cluster = df_clustered.filter(df_clustered.title == title).select(\"prediction\").collect()[0][0]\n",
        "#     cluster_papers = df_clustered.filter(df_clustered.prediction == paper_cluster)\n",
        "#     paper_features = np.array(cluster_papers.filter(cluster_papers.title == title).select(\"pca_features\").collect()[0][0])\n",
        "#     similarities = []\n",
        "\n",
        "#     for row in cluster_papers.collect():\n",
        "#         other_title = row[\"title\"]\n",
        "#         other_features = np.array(row[\"pca_features\"])\n",
        "#         similarity = cosine_similarity([paper_features], [other_features])[0][0]\n",
        "#         similarities.append((other_title, similarity))\n",
        "\n",
        "#     similarities.sort(key=lambda x: x[1], reverse=True)\n",
        "#     return similarities[:top_n]\n",
        "\n",
        "# # Example usage\n",
        "# recommended_papers = recommend_papers(\"example_paper_title\", top_n=2)\n",
        "# print(recommended_papers)"
      ],
      "metadata": {
        "id": "oAARys3rStkr"
      },
      "execution_count": null,
      "outputs": []
    }
  ],
  "metadata": {
    "colab": {
      "gpuType": "T4",
      "provenance": []
    },
    "kernelspec": {
      "display_name": "Python 3",
      "name": "python3"
    },
    "language_info": {
      "name": "python"
    }
  },
  "nbformat": 4,
  "nbformat_minor": 0
}